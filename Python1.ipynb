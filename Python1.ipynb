{
  "nbformat": 4,
  "nbformat_minor": 0,
  "metadata": {
    "colab": {
      "provenance": []
    },
    "kernelspec": {
      "name": "python3",
      "display_name": "Python 3"
    },
    "language_info": {
      "name": "python"
    }
  },
  "cells": [
    {
      "cell_type": "code",
      "execution_count": 2,
      "metadata": {
        "id": "qEMT-L8qWj5E"
      },
      "outputs": [],
      "source": [
        "import psutil\n",
        "import logging\n",
        "from datetime import datetime\n",
        "\n",
        "# Configure logging\n",
        "logging.basicConfig(\n",
        "    filename=\"system_health.log\",\n",
        "    level=logging.INFO,\n",
        "    format=\"%(asctime)s - %(levelname)s - %(message)s\"\n",
        ")\n",
        "\n",
        "# Thresholds\n",
        "CPU_THRESHOLD = 80  # Percentage\n",
        "MEMORY_THRESHOLD = 80  # Percentage\n",
        "DISK_THRESHOLD = 80  # Percentage\n",
        "PROCESS_THRESHOLD = 300  # Number of running processes\n",
        "\n",
        "def check_cpu_usage():\n",
        "    cpu_usage = psutil.cpu_percent(interval=1)\n",
        "    if cpu_usage > CPU_THRESHOLD:\n",
        "        log_and_alert(f\"High CPU usage detected: {cpu_usage}%\")\n",
        "    else:\n",
        "        logging.info(f\"CPU usage: {cpu_usage}%\")\n",
        "\n",
        "def check_memory_usage():\n",
        "    memory = psutil.virtual_memory()\n",
        "    memory_usage = memory.percent\n",
        "    if memory_usage > MEMORY_THRESHOLD:\n",
        "        log_and_alert(f\"High memory usage detected: {memory_usage}%\")\n",
        "    else:\n",
        "        logging.info(f\"Memory usage: {memory_usage}%\")\n",
        "\n",
        "def check_disk_space():\n",
        "    disk = psutil.disk_usage('/')\n",
        "    disk_usage = disk.percent\n",
        "    if disk_usage > DISK_THRESHOLD:\n",
        "        log_and_alert(f\"Low disk space detected: {disk_usage}% used\")\n",
        "    else:\n",
        "        logging.info(f\"Disk usage: {disk_usage}%\")\n",
        "\n",
        "def check_running_processes():\n",
        "    processes = len(psutil.pids())\n",
        "    if processes > PROCESS_THRESHOLD:\n",
        "        log_and_alert(f\"High number of running processes: {processes}\")\n",
        "    else:\n",
        "        logging.info(f\"Running processes: {processes}\")\n",
        "\n",
        "def log_and_alert(message):\n",
        "    \"\"\"Log the alert to the log file and print it to the console.\"\"\"\n",
        "    logging.warning(message)\n",
        "    print(f\"ALERT: {message}\")\n",
        "\n",
        "def monitor_system():\n",
        "    \"\"\"Run all checks and monitor system health.\"\"\"\n",
        "    logging.info(\"Starting system health check.\")\n",
        "    check_cpu_usage()\n",
        "    check_memory_usage()\n",
        "    check_disk_space()\n",
        "    check_running_processes()\n",
        "    logging.info(\"System health check completed.\\n\")\n",
        "\n",
        "if __name__ == \"__main__\":\n",
        "    monitor_system()\n"
      ]
    }
  ]
}