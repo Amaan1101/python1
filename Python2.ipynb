{
  "nbformat": 4,
  "nbformat_minor": 0,
  "metadata": {
    "colab": {
      "provenance": []
    },
    "kernelspec": {
      "name": "python3",
      "display_name": "Python 3"
    },
    "language_info": {
      "name": "python"
    }
  },
  "cells": [
    {
      "cell_type": "code",
      "execution_count": 2,
      "metadata": {
        "colab": {
          "base_uri": "https://localhost:8080/",
          "height": 476
        },
        "id": "YBWqsQycXZ45",
        "outputId": "a9514563-eb90-4e03-e550-e0413b665442"
      },
      "outputs": [
        {
          "output_type": "stream",
          "name": "stderr",
          "text": [
            "ERROR:root:Application check failed: HTTPConnectionPool(host='your-application-url.com', port=80): Max retries exceeded with url: /health (Caused by NameResolutionError(\"<urllib3.connection.HTTPConnection object at 0x79e24431ab00>: Failed to resolve 'your-application-url.com' ([Errno -2] Name or service not known)\"))\n"
          ]
        },
        {
          "output_type": "stream",
          "name": "stdout",
          "text": [
            "Starting application health checker for http://your-application-url.com/health. Press Ctrl+C to stop.\n",
            "2024-11-30 09:22:12.493568 - Application check failed: HTTPConnectionPool(host='your-application-url.com', port=80): Max retries exceeded with url: /health (Caused by NameResolutionError(\"<urllib3.connection.HTTPConnection object at 0x79e24431ab00>: Failed to resolve 'your-application-url.com' ([Errno -2] Name or service not known)\"))\n"
          ]
        },
        {
          "output_type": "stream",
          "name": "stderr",
          "text": [
            "ERROR:root:Application check failed: HTTPConnectionPool(host='your-application-url.com', port=80): Max retries exceeded with url: /health (Caused by NameResolutionError(\"<urllib3.connection.HTTPConnection object at 0x79e244318eb0>: Failed to resolve 'your-application-url.com' ([Errno -2] Name or service not known)\"))\n"
          ]
        },
        {
          "output_type": "stream",
          "name": "stdout",
          "text": [
            "2024-11-30 09:23:12.631710 - Application check failed: HTTPConnectionPool(host='your-application-url.com', port=80): Max retries exceeded with url: /health (Caused by NameResolutionError(\"<urllib3.connection.HTTPConnection object at 0x79e244318eb0>: Failed to resolve 'your-application-url.com' ([Errno -2] Name or service not known)\"))\n"
          ]
        },
        {
          "output_type": "stream",
          "name": "stderr",
          "text": [
            "ERROR:root:Application check failed: HTTPConnectionPool(host='your-application-url.com', port=80): Max retries exceeded with url: /health (Caused by NameResolutionError(\"<urllib3.connection.HTTPConnection object at 0x79e2443f46a0>: Failed to resolve 'your-application-url.com' ([Errno -2] Name or service not known)\"))\n"
          ]
        },
        {
          "output_type": "stream",
          "name": "stdout",
          "text": [
            "2024-11-30 09:24:12.770361 - Application check failed: HTTPConnectionPool(host='your-application-url.com', port=80): Max retries exceeded with url: /health (Caused by NameResolutionError(\"<urllib3.connection.HTTPConnection object at 0x79e2443f46a0>: Failed to resolve 'your-application-url.com' ([Errno -2] Name or service not known)\"))\n"
          ]
        },
        {
          "output_type": "stream",
          "name": "stderr",
          "text": [
            "ERROR:root:Application check failed: HTTPConnectionPool(host='your-application-url.com', port=80): Max retries exceeded with url: /health (Caused by NameResolutionError(\"<urllib3.connection.HTTPConnection object at 0x79e2443f57b0>: Failed to resolve 'your-application-url.com' ([Errno -2] Name or service not known)\"))\n"
          ]
        },
        {
          "output_type": "stream",
          "name": "stdout",
          "text": [
            "2024-11-30 09:25:12.827519 - Application check failed: HTTPConnectionPool(host='your-application-url.com', port=80): Max retries exceeded with url: /health (Caused by NameResolutionError(\"<urllib3.connection.HTTPConnection object at 0x79e2443f57b0>: Failed to resolve 'your-application-url.com' ([Errno -2] Name or service not known)\"))\n"
          ]
        },
        {
          "output_type": "stream",
          "name": "stderr",
          "text": [
            "ERROR:root:Application check failed: HTTPConnectionPool(host='your-application-url.com', port=80): Max retries exceeded with url: /health (Caused by NameResolutionError(\"<urllib3.connection.HTTPConnection object at 0x79e2443f5360>: Failed to resolve 'your-application-url.com' ([Errno -2] Name or service not known)\"))\n"
          ]
        },
        {
          "output_type": "stream",
          "name": "stdout",
          "text": [
            "2024-11-30 09:26:12.907243 - Application check failed: HTTPConnectionPool(host='your-application-url.com', port=80): Max retries exceeded with url: /health (Caused by NameResolutionError(\"<urllib3.connection.HTTPConnection object at 0x79e2443f5360>: Failed to resolve 'your-application-url.com' ([Errno -2] Name or service not known)\"))\n"
          ]
        },
        {
          "output_type": "stream",
          "name": "stderr",
          "text": [
            "ERROR:root:Application check failed: HTTPConnectionPool(host='your-application-url.com', port=80): Max retries exceeded with url: /health (Caused by NameResolutionError(\"<urllib3.connection.HTTPConnection object at 0x79e24431b8b0>: Failed to resolve 'your-application-url.com' ([Errno -2] Name or service not known)\"))\n"
          ]
        },
        {
          "output_type": "stream",
          "name": "stdout",
          "text": [
            "2024-11-30 09:27:13.003475 - Application check failed: HTTPConnectionPool(host='your-application-url.com', port=80): Max retries exceeded with url: /health (Caused by NameResolutionError(\"<urllib3.connection.HTTPConnection object at 0x79e24431b8b0>: Failed to resolve 'your-application-url.com' ([Errno -2] Name or service not known)\"))\n"
          ]
        },
        {
          "output_type": "stream",
          "name": "stderr",
          "text": [
            "ERROR:root:Application check failed: HTTPConnectionPool(host='your-application-url.com', port=80): Max retries exceeded with url: /health (Caused by NameResolutionError(\"<urllib3.connection.HTTPConnection object at 0x79e2443f6f80>: Failed to resolve 'your-application-url.com' ([Errno -2] Name or service not known)\"))\n"
          ]
        },
        {
          "output_type": "stream",
          "name": "stdout",
          "text": [
            "2024-11-30 09:28:13.096247 - Application check failed: HTTPConnectionPool(host='your-application-url.com', port=80): Max retries exceeded with url: /health (Caused by NameResolutionError(\"<urllib3.connection.HTTPConnection object at 0x79e2443f6f80>: Failed to resolve 'your-application-url.com' ([Errno -2] Name or service not known)\"))\n"
          ]
        },
        {
          "output_type": "error",
          "ename": "KeyboardInterrupt",
          "evalue": "",
          "traceback": [
            "\u001b[0;31m---------------------------------------------------------------------------\u001b[0m",
            "\u001b[0;31mKeyboardInterrupt\u001b[0m                         Traceback (most recent call last)",
            "\u001b[0;32m<ipython-input-2-5e789d46f95b>\u001b[0m in \u001b[0;36m<cell line: 35>\u001b[0;34m()\u001b[0m\n\u001b[1;32m     38\u001b[0m     \u001b[0;32mwhile\u001b[0m \u001b[0;32mTrue\u001b[0m\u001b[0;34m:\u001b[0m\u001b[0;34m\u001b[0m\u001b[0;34m\u001b[0m\u001b[0m\n\u001b[1;32m     39\u001b[0m         \u001b[0mcheck_application_status\u001b[0m\u001b[0;34m(\u001b[0m\u001b[0mURL\u001b[0m\u001b[0;34m)\u001b[0m\u001b[0;34m\u001b[0m\u001b[0;34m\u001b[0m\u001b[0m\n\u001b[0;32m---> 40\u001b[0;31m         \u001b[0mtime\u001b[0m\u001b[0;34m.\u001b[0m\u001b[0msleep\u001b[0m\u001b[0;34m(\u001b[0m\u001b[0mCHECK_INTERVAL\u001b[0m\u001b[0;34m)\u001b[0m\u001b[0;34m\u001b[0m\u001b[0;34m\u001b[0m\u001b[0m\n\u001b[0m",
            "\u001b[0;31mKeyboardInterrupt\u001b[0m: "
          ]
        }
      ],
      "source": [
        "import requests\n",
        "import logging\n",
        "from datetime import datetime\n",
        "\n",
        "# Configuration\n",
        "URL = \"http://your-application-url.com/health\"  # Replace with your application endpoint\n",
        "CHECK_INTERVAL = 60  # Time in seconds between checks\n",
        "LOG_FILE = \"app_health.log\"\n",
        "SUCCESS_CODES = [200]  # Define the HTTP status codes that indicate the app is \"up\"\n",
        "\n",
        "# Configure logging\n",
        "logging.basicConfig(\n",
        "    filename=LOG_FILE,\n",
        "    level=logging.INFO,\n",
        "    format=\"%(asctime)s - %(levelname)s - %(message)s\"\n",
        ")\n",
        "\n",
        "def check_application_status(url):\n",
        "    \"\"\"Check the status of the application by sending an HTTP GET request.\"\"\"\n",
        "    try:\n",
        "        response = requests.get(url, timeout=10)\n",
        "        status_code = response.status_code\n",
        "\n",
        "        if status_code in SUCCESS_CODES:\n",
        "            logging.info(f\"Application is UP. Status code: {status_code}\")\n",
        "            print(f\"{datetime.now()} - Application is UP. Status code: {status_code}\")\n",
        "        else:\n",
        "            logging.warning(f\"Application is DOWN. Status code: {status_code}\")\n",
        "            print(f\"{datetime.now()} - Application is DOWN. Status code: {status_code}\")\n",
        "\n",
        "    except requests.exceptions.RequestException as e:\n",
        "        logging.error(f\"Application check failed: {e}\")\n",
        "        print(f\"{datetime.now()} - Application check failed: {e}\")\n",
        "\n",
        "if __name__ == \"__main__\":\n",
        "    import time\n",
        "    print(f\"Starting application health checker for {URL}. Press Ctrl+C to stop.\")\n",
        "    while True:\n",
        "        check_application_status(URL)\n",
        "        time.sleep(CHECK_INTERVAL)\n"
      ]
    },
    {
      "cell_type": "code",
      "source": [],
      "metadata": {
        "id": "Ot0ws77YYLB4"
      },
      "execution_count": null,
      "outputs": []
    }
  ]
}